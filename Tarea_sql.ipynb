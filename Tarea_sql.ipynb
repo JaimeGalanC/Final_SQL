{
 "cells": [
  {
   "cell_type": "markdown",
   "id": "db4bb3b6",
   "metadata": {
    "toc": true
   },
   "source": [
    "<h1>Tabla de Contenidos<span class=\"tocSkip\"></span></h1>\n",
    "<div class=\"toc\"><ul class=\"toc-item\"><li><span><a href=\"#Inicialización\" data-toc-modified-id=\"Inicialización-1\"><span class=\"toc-item-num\">1&nbsp;&nbsp;</span>Inicialización</a></span></li><li><span><a href=\"#Conección-a-la-Base-de-Datos\" data-toc-modified-id=\"Conección-a-la-Base-de-Datos-2\"><span class=\"toc-item-num\">2&nbsp;&nbsp;</span>Conección a la Base de Datos</a></span></li><li><span><a href=\"#Descripción-de-los-datos\" data-toc-modified-id=\"Descripción-de-los-datos-3\"><span class=\"toc-item-num\">3&nbsp;&nbsp;</span>Descripción de los datos</a></span></li><li><span><a href=\"#Ejercicios\" data-toc-modified-id=\"Ejercicios-4\"><span class=\"toc-item-num\">4&nbsp;&nbsp;</span>Ejercicios</a></span><ul class=\"toc-item\"><li><span><a href=\"#Número-de-libros-publicados-después-del-1-de-enero-de-2000\" data-toc-modified-id=\"Número-de-libros-publicados-después-del-1-de-enero-de-2000-4.1\"><span class=\"toc-item-num\">4.1&nbsp;&nbsp;</span>Número de libros publicados después del 1 de enero de 2000</a></span></li><li><span><a href=\"#Número-de-reseñas-de-usuarios-y-la-calificación-promedio-para-cada-libro\" data-toc-modified-id=\"Número-de-reseñas-de-usuarios-y-la-calificación-promedio-para-cada-libro-4.2\"><span class=\"toc-item-num\">4.2&nbsp;&nbsp;</span>Número de reseñas de usuarios y la calificación promedio para cada libro</a></span></li><li><span><a href=\"#Identificar-la-editorial-que-ha-publicado-el-mayor-número-de-libros-con-más-de-50-páginas\" data-toc-modified-id=\"Identificar-la-editorial-que-ha-publicado-el-mayor-número-de-libros-con-más-de-50-páginas-4.3\"><span class=\"toc-item-num\">4.3&nbsp;&nbsp;</span>Identificar la editorial que ha publicado el mayor número de libros con más de 50 páginas</a></span></li><li><span><a href=\"#Identificar-al-autor-que-tiene-la-más-alta-calificación-promedio-del-libro:-mirar-solo-los-libros-con-al-menos-50-calificaciones\" data-toc-modified-id=\"Identificar-al-autor-que-tiene-la-más-alta-calificación-promedio-del-libro:-mirar-solo-los-libros-con-al-menos-50-calificaciones-4.4\"><span class=\"toc-item-num\">4.4&nbsp;&nbsp;</span>Identificar al autor que tiene la más alta calificación promedio del libro: mirar solo los libros con al menos 50 calificaciones</a></span></li><li><span><a href=\"#Encontrar-el-número-promedio-de-reseñas-de-texto-entre-los-usuarios-que-calificaron-más-de-50-libros\" data-toc-modified-id=\"Encontrar-el-número-promedio-de-reseñas-de-texto-entre-los-usuarios-que-calificaron-más-de-50-libros-4.5\"><span class=\"toc-item-num\">4.5&nbsp;&nbsp;</span>Encontrar el número promedio de reseñas de texto entre los usuarios que calificaron más de 50 libros</a></span></li></ul></li></ul></div>"
   ]
  },
  {
   "cell_type": "markdown",
   "id": "8db6589a-dd84-4a1b-83d4-59c6aa47e129",
   "metadata": {},
   "source": [
    "<a id='contenidos'></a>"
   ]
  },
  {
   "cell_type": "markdown",
   "id": "30bfde1c-c10b-474a-93f8-14d96bb8750f",
   "metadata": {},
   "source": [
    "# Descripción del proyecto  \n",
    "El coronavirus tomó al mundo entero por sorpresa, cambiando la rutina diaria de todos y todas. Los habitantes de las ciudades ya no pasaban su tiempo libre fuera, yendo a cafés y centros comerciales; sino que más gente se quedaba en casa, leyendo libros. Eso atrajo la atención de las startups (empresas emergentes) que se apresuraron a desarrollar nuevas aplicaciones para los amantes de los libros.\n",
    "\n",
    "Tenemos una base de datos de uno de los servicios que compiten en este mercado. Contiene datos sobre libros, editoriales, autores y calificaciones de clientes y reseñas de libros. Esta información se utilizará para generar una propuesta de valor para un nuevo producto."
   ]
  },
  {
   "cell_type": "markdown",
   "id": "fa31882d-2cad-4995-925a-e3b67d99c61d",
   "metadata": {},
   "source": [
    "[Volver a contenidos](#contenidos)\n",
    "## Inicialización \n",
    "En esta sección vamos a cargar las librerías para el estudio"
   ]
  },
  {
   "cell_type": "code",
   "execution_count": 1,
   "id": "c2c4f7fa-994c-49a3-bb38-b1e88e62d02e",
   "metadata": {},
   "outputs": [
    {
     "data": {
      "text/plain": [
       "True"
      ]
     },
     "execution_count": 1,
     "metadata": {},
     "output_type": "execute_result"
    }
   ],
   "source": [
    "# importar librerías\n",
    "import pandas as pd\n",
    "from sqlalchemy import create_engine, inspect\n",
    "import os\n",
    "from dotenv import load_dotenv\n",
    "load_dotenv()"
   ]
  },
  {
   "cell_type": "markdown",
   "id": "8f5aef55-c4b1-43ed-b082-577a0e6f9404",
   "metadata": {},
   "source": [
    "[Volver a contenidos](#contenidos)\n",
    "## Conección a la Base de Datos \n",
    "En esta sección vamos a realizar una conección a la BD para obtener información de diversas tablas."
   ]
  },
  {
   "cell_type": "code",
   "execution_count": 2,
   "id": "f1ecadc7-eb11-4584-a506-a0f2a8bd8c66",
   "metadata": {},
   "outputs": [],
   "source": [
    "# coneccion a la BD\n",
    "\n",
    "db_config = {'user':os.getenv('tripleten_sql_user'),         # nombre de usuario\n",
    "             'pwd': os.getenv('tripleten_sql_pwd'), # contraseña\n",
    "             'host': os.getenv('tripleten_sql_host'),\n",
    "             'port': 6432,              # puerto de conexión\n",
    "             'db': os.getenv('tripleten_sql_db')}          # nombre de la base de datos\n",
    "\n",
    "connection_string = 'postgresql://{}:{}@{}:{}/{}'.format(db_config['user'],\n",
    "                                                                     db_config['pwd'],\n",
    "                                                                       db_config['host'],\n",
    "                                                                       db_config['port'],\n",
    "                                                                       db_config['db'])\n",
    "\n",
    "engine = create_engine(connection_string, connect_args={'sslmode':'require'},pool_size=10, max_overflow=20)"
   ]
  },
  {
   "cell_type": "code",
   "execution_count": 3,
   "id": "9e5597bb-30ec-4a09-a691-5b4a2e39c62a",
   "metadata": {
    "scrolled": false
   },
   "outputs": [
    {
     "name": "stdout",
     "output_type": "stream",
     "text": [
      "schema: information_schema\n",
      "table_name:  sql_features ----------------------------\n",
      "Column: {'name': 'feature_id', 'type': VARCHAR(), 'nullable': True, 'default': None, 'autoincrement': False, 'comment': None}\n",
      "Column: {'name': 'feature_name', 'type': VARCHAR(), 'nullable': True, 'default': None, 'autoincrement': False, 'comment': None}\n",
      "Column: {'name': 'sub_feature_id', 'type': VARCHAR(), 'nullable': True, 'default': None, 'autoincrement': False, 'comment': None}\n",
      "Column: {'name': 'sub_feature_name', 'type': VARCHAR(), 'nullable': True, 'default': None, 'autoincrement': False, 'comment': None}\n",
      "Column: {'name': 'is_supported', 'type': VARCHAR(), 'nullable': True, 'default': None, 'autoincrement': False, 'comment': None}\n",
      "Column: {'name': 'is_verified_by', 'type': VARCHAR(), 'nullable': True, 'default': None, 'autoincrement': False, 'comment': None}\n",
      "Column: {'name': 'comments', 'type': VARCHAR(), 'nullable': True, 'default': None, 'autoincrement': False, 'comment': None}\n",
      "table_name:  sql_implementation_info ----------------------------\n",
      "Column: {'name': 'implementation_info_id', 'type': VARCHAR(), 'nullable': True, 'default': None, 'autoincrement': False, 'comment': None}\n",
      "Column: {'name': 'implementation_info_name', 'type': VARCHAR(), 'nullable': True, 'default': None, 'autoincrement': False, 'comment': None}\n",
      "Column: {'name': 'integer_value', 'type': INTEGER(), 'nullable': True, 'default': None, 'autoincrement': False, 'comment': None}\n",
      "Column: {'name': 'character_value', 'type': VARCHAR(), 'nullable': True, 'default': None, 'autoincrement': False, 'comment': None}\n",
      "Column: {'name': 'comments', 'type': VARCHAR(), 'nullable': True, 'default': None, 'autoincrement': False, 'comment': None}\n",
      "table_name:  sql_languages ----------------------------\n",
      "Column: {'name': 'sql_language_source', 'type': VARCHAR(), 'nullable': True, 'default': None, 'autoincrement': False, 'comment': None}\n",
      "Column: {'name': 'sql_language_year', 'type': VARCHAR(), 'nullable': True, 'default': None, 'autoincrement': False, 'comment': None}\n",
      "Column: {'name': 'sql_language_conformance', 'type': VARCHAR(), 'nullable': True, 'default': None, 'autoincrement': False, 'comment': None}\n",
      "Column: {'name': 'sql_language_integrity', 'type': VARCHAR(), 'nullable': True, 'default': None, 'autoincrement': False, 'comment': None}\n",
      "Column: {'name': 'sql_language_implementation', 'type': VARCHAR(), 'nullable': True, 'default': None, 'autoincrement': False, 'comment': None}\n",
      "Column: {'name': 'sql_language_binding_style', 'type': VARCHAR(), 'nullable': True, 'default': None, 'autoincrement': False, 'comment': None}\n",
      "Column: {'name': 'sql_language_programming_language', 'type': VARCHAR(), 'nullable': True, 'default': None, 'autoincrement': False, 'comment': None}\n",
      "table_name:  sql_packages ----------------------------\n",
      "Column: {'name': 'feature_id', 'type': VARCHAR(), 'nullable': True, 'default': None, 'autoincrement': False, 'comment': None}\n",
      "Column: {'name': 'feature_name', 'type': VARCHAR(), 'nullable': True, 'default': None, 'autoincrement': False, 'comment': None}\n",
      "Column: {'name': 'is_supported', 'type': VARCHAR(), 'nullable': True, 'default': None, 'autoincrement': False, 'comment': None}\n",
      "Column: {'name': 'is_verified_by', 'type': VARCHAR(), 'nullable': True, 'default': None, 'autoincrement': False, 'comment': None}\n",
      "Column: {'name': 'comments', 'type': VARCHAR(), 'nullable': True, 'default': None, 'autoincrement': False, 'comment': None}\n",
      "table_name:  sql_parts ----------------------------\n",
      "Column: {'name': 'feature_id', 'type': VARCHAR(), 'nullable': True, 'default': None, 'autoincrement': False, 'comment': None}\n",
      "Column: {'name': 'feature_name', 'type': VARCHAR(), 'nullable': True, 'default': None, 'autoincrement': False, 'comment': None}\n",
      "Column: {'name': 'is_supported', 'type': VARCHAR(), 'nullable': True, 'default': None, 'autoincrement': False, 'comment': None}\n",
      "Column: {'name': 'is_verified_by', 'type': VARCHAR(), 'nullable': True, 'default': None, 'autoincrement': False, 'comment': None}\n",
      "Column: {'name': 'comments', 'type': VARCHAR(), 'nullable': True, 'default': None, 'autoincrement': False, 'comment': None}\n",
      "table_name:  sql_sizing ----------------------------\n",
      "Column: {'name': 'sizing_id', 'type': INTEGER(), 'nullable': True, 'default': None, 'autoincrement': False, 'comment': None}\n",
      "Column: {'name': 'sizing_name', 'type': VARCHAR(), 'nullable': True, 'default': None, 'autoincrement': False, 'comment': None}\n",
      "Column: {'name': 'supported_value', 'type': INTEGER(), 'nullable': True, 'default': None, 'autoincrement': False, 'comment': None}\n",
      "Column: {'name': 'comments', 'type': VARCHAR(), 'nullable': True, 'default': None, 'autoincrement': False, 'comment': None}\n",
      "table_name:  sql_sizing_profiles ----------------------------\n",
      "Column: {'name': 'sizing_id', 'type': INTEGER(), 'nullable': True, 'default': None, 'autoincrement': False, 'comment': None}\n",
      "Column: {'name': 'sizing_name', 'type': VARCHAR(), 'nullable': True, 'default': None, 'autoincrement': False, 'comment': None}\n",
      "Column: {'name': 'profile_id', 'type': VARCHAR(), 'nullable': True, 'default': None, 'autoincrement': False, 'comment': None}\n",
      "Column: {'name': 'required_value', 'type': INTEGER(), 'nullable': True, 'default': None, 'autoincrement': False, 'comment': None}\n",
      "Column: {'name': 'comments', 'type': VARCHAR(), 'nullable': True, 'default': None, 'autoincrement': False, 'comment': None}\n",
      "schema: public\n",
      "table_name:  orders ----------------------------\n",
      "Column: {'name': 'id', 'type': INTEGER(), 'nullable': False, 'default': 'nextval(\\'\"public\".orders_id_seq\\'::regclass)', 'autoincrement': True, 'comment': None}\n",
      "Column: {'name': 'buyts', 'type': TIMESTAMP(), 'nullable': True, 'default': None, 'autoincrement': False, 'comment': None}\n",
      "Column: {'name': 'revenue', 'type': MONEY(), 'nullable': True, 'default': None, 'autoincrement': False, 'comment': None}\n",
      "Column: {'name': 'uid', 'type': VARCHAR(length=30), 'nullable': True, 'default': None, 'autoincrement': False, 'comment': None}\n",
      "table_name:  visits ----------------------------\n",
      "Column: {'name': 'id', 'type': INTEGER(), 'nullable': False, 'default': 'nextval(\\'\"public\".visits_id_seq\\'::regclass)', 'autoincrement': True, 'comment': None}\n",
      "Column: {'name': 'uid', 'type': VARCHAR(length=30), 'nullable': True, 'default': None, 'autoincrement': False, 'comment': None}\n",
      "Column: {'name': 'device', 'type': VARCHAR(length=10), 'nullable': True, 'default': None, 'autoincrement': False, 'comment': None}\n",
      "Column: {'name': 'endts', 'type': TIMESTAMP(), 'nullable': True, 'default': None, 'autoincrement': False, 'comment': None}\n",
      "Column: {'name': 'sourceid', 'type': SMALLINT(), 'nullable': True, 'default': None, 'autoincrement': False, 'comment': None}\n",
      "Column: {'name': 'startts', 'type': TIMESTAMP(), 'nullable': True, 'default': None, 'autoincrement': False, 'comment': None}\n",
      "table_name:  advertisment_costs ----------------------------\n",
      "Column: {'name': 'id', 'type': INTEGER(), 'nullable': False, 'default': 'nextval(\\'\"public\".advertisment_costs_id_seq\\'::regclass)', 'autoincrement': True, 'comment': None}\n",
      "Column: {'name': 'sourceid', 'type': SMALLINT(), 'nullable': True, 'default': None, 'autoincrement': False, 'comment': None}\n",
      "Column: {'name': 'dt', 'type': TIMESTAMP(), 'nullable': True, 'default': None, 'autoincrement': False, 'comment': None}\n",
      "Column: {'name': 'costs', 'type': MONEY(), 'nullable': True, 'default': None, 'autoincrement': False, 'comment': None}\n",
      "table_name:  authors ----------------------------\n",
      "Column: {'name': 'author_id', 'type': INTEGER(), 'nullable': False, 'default': None, 'autoincrement': False, 'comment': None}\n",
      "Column: {'name': 'author', 'type': TEXT(), 'nullable': True, 'default': None, 'autoincrement': False, 'comment': None}\n",
      "table_name:  second ----------------------------\n",
      "Column: {'name': 'book_id', 'type': BIGINT(), 'nullable': True, 'default': None, 'autoincrement': False, 'comment': None}\n",
      "Column: {'name': 'count', 'type': BIGINT(), 'nullable': True, 'default': None, 'autoincrement': False, 'comment': None}\n",
      "table_name:  second_b ----------------------------\n",
      "Column: {'name': 'book_id', 'type': BIGINT(), 'nullable': True, 'default': None, 'autoincrement': False, 'comment': None}\n",
      "Column: {'name': 'avg', 'type': DOUBLE_PRECISION(precision=53), 'nullable': True, 'default': None, 'autoincrement': False, 'comment': None}\n",
      "table_name:  publishers ----------------------------\n",
      "Column: {'name': 'publisher_id', 'type': INTEGER(), 'nullable': False, 'default': None, 'autoincrement': False, 'comment': None}\n",
      "Column: {'name': 'publisher', 'type': TEXT(), 'nullable': True, 'default': None, 'autoincrement': False, 'comment': None}\n",
      "table_name:  author ----------------------------\n",
      "Column: {'name': 'index', 'type': BIGINT(), 'nullable': True, 'default': None, 'autoincrement': False, 'comment': None}\n",
      "Column: {'name': 'author_id', 'type': BIGINT(), 'nullable': True, 'default': None, 'autoincrement': False, 'comment': None}\n",
      "Column: {'name': 'author', 'type': TEXT(), 'nullable': True, 'default': None, 'autoincrement': False, 'comment': None}\n",
      "table_name:  reviews ----------------------------\n",
      "Column: {'name': 'review_id', 'type': INTEGER(), 'nullable': False, 'default': None, 'autoincrement': False, 'comment': None}\n",
      "Column: {'name': 'book_id', 'type': INTEGER(), 'nullable': True, 'default': None, 'autoincrement': False, 'comment': None}\n",
      "Column: {'name': 'username', 'type': TEXT(), 'nullable': True, 'default': None, 'autoincrement': False, 'comment': None}\n",
      "Column: {'name': 'text', 'type': TEXT(), 'nullable': True, 'default': None, 'autoincrement': False, 'comment': None}\n",
      "table_name:  ratings ----------------------------\n",
      "Column: {'name': 'rating_id', 'type': INTEGER(), 'nullable': False, 'default': None, 'autoincrement': False, 'comment': None}\n",
      "Column: {'name': 'book_id', 'type': INTEGER(), 'nullable': True, 'default': None, 'autoincrement': False, 'comment': None}\n",
      "Column: {'name': 'username', 'type': TEXT(), 'nullable': True, 'default': None, 'autoincrement': False, 'comment': None}\n",
      "Column: {'name': 'rating', 'type': INTEGER(), 'nullable': True, 'default': None, 'autoincrement': False, 'comment': None}\n",
      "table_name:  books ----------------------------\n",
      "Column: {'name': 'book_id', 'type': INTEGER(), 'nullable': False, 'default': None, 'autoincrement': False, 'comment': None}\n",
      "Column: {'name': 'author_id', 'type': INTEGER(), 'nullable': True, 'default': None, 'autoincrement': False, 'comment': None}\n",
      "Column: {'name': 'title', 'type': TEXT(), 'nullable': True, 'default': None, 'autoincrement': False, 'comment': None}\n",
      "Column: {'name': 'num_pages', 'type': INTEGER(), 'nullable': True, 'default': None, 'autoincrement': False, 'comment': None}\n",
      "Column: {'name': 'publication_date', 'type': DATE(), 'nullable': True, 'default': None, 'autoincrement': False, 'comment': None}\n",
      "Column: {'name': 'publisher_id', 'type': INTEGER(), 'nullable': True, 'default': None, 'autoincrement': False, 'comment': None}\n"
     ]
    }
   ],
   "source": [
    "# revisar los esquemas en la BD\n",
    "inspector=inspect(engine)\n",
    "schemas=inspector.get_schema_names()\n",
    "\n",
    "for schema in schemas:\n",
    "    print(\"schema: %s\" % schema)\n",
    "    for table_name in inspector.get_table_names(schema=schema):\n",
    "        print(f'table_name: ',table_name, f'----------------------------')\n",
    "        for column in inspector.get_columns(table_name,schema=schema):\n",
    "            print(\"Column: %s\" % column)"
   ]
  },
  {
   "cell_type": "markdown",
   "id": "a32078a2-05bb-48b1-8aa4-13eb838ed4ea",
   "metadata": {},
   "source": [
    "Las tablas de nuestro interés están en el **'schema'** llamado **'public'.**"
   ]
  },
  {
   "cell_type": "code",
   "execution_count": 4,
   "id": "d3c49cfb-7f3b-489b-bf49-90ead23743c2",
   "metadata": {},
   "outputs": [],
   "source": [
    "# creamos una consulta a la BD para ver que podamos extraer información\n",
    "query=\"SELECT * FROM public.books LIMIT 5\""
   ]
  },
  {
   "cell_type": "code",
   "execution_count": 5,
   "id": "9e1a5eb9-4522-4590-9fee-b5c21f87371a",
   "metadata": {},
   "outputs": [
    {
     "data": {
      "text/html": [
       "<div>\n",
       "<style scoped>\n",
       "    .dataframe tbody tr th:only-of-type {\n",
       "        vertical-align: middle;\n",
       "    }\n",
       "\n",
       "    .dataframe tbody tr th {\n",
       "        vertical-align: top;\n",
       "    }\n",
       "\n",
       "    .dataframe thead th {\n",
       "        text-align: right;\n",
       "    }\n",
       "</style>\n",
       "<table border=\"1\" class=\"dataframe\">\n",
       "  <thead>\n",
       "    <tr style=\"text-align: right;\">\n",
       "      <th></th>\n",
       "      <th>book_id</th>\n",
       "      <th>author_id</th>\n",
       "      <th>title</th>\n",
       "      <th>num_pages</th>\n",
       "      <th>publication_date</th>\n",
       "      <th>publisher_id</th>\n",
       "    </tr>\n",
       "  </thead>\n",
       "  <tbody>\n",
       "    <tr>\n",
       "      <th>0</th>\n",
       "      <td>1</td>\n",
       "      <td>546</td>\n",
       "      <td>'Salem's Lot</td>\n",
       "      <td>594</td>\n",
       "      <td>2005-11-01</td>\n",
       "      <td>93</td>\n",
       "    </tr>\n",
       "    <tr>\n",
       "      <th>1</th>\n",
       "      <td>2</td>\n",
       "      <td>465</td>\n",
       "      <td>1 000 Places to See Before You Die</td>\n",
       "      <td>992</td>\n",
       "      <td>2003-05-22</td>\n",
       "      <td>336</td>\n",
       "    </tr>\n",
       "    <tr>\n",
       "      <th>2</th>\n",
       "      <td>3</td>\n",
       "      <td>407</td>\n",
       "      <td>13 Little Blue Envelopes (Little Blue Envelope...</td>\n",
       "      <td>322</td>\n",
       "      <td>2010-12-21</td>\n",
       "      <td>135</td>\n",
       "    </tr>\n",
       "    <tr>\n",
       "      <th>3</th>\n",
       "      <td>4</td>\n",
       "      <td>82</td>\n",
       "      <td>1491: New Revelations of the Americas Before C...</td>\n",
       "      <td>541</td>\n",
       "      <td>2006-10-10</td>\n",
       "      <td>309</td>\n",
       "    </tr>\n",
       "    <tr>\n",
       "      <th>4</th>\n",
       "      <td>5</td>\n",
       "      <td>125</td>\n",
       "      <td>1776</td>\n",
       "      <td>386</td>\n",
       "      <td>2006-07-04</td>\n",
       "      <td>268</td>\n",
       "    </tr>\n",
       "  </tbody>\n",
       "</table>\n",
       "</div>"
      ],
      "text/plain": [
       "   book_id  author_id                                              title  \\\n",
       "0        1        546                                       'Salem's Lot   \n",
       "1        2        465                 1 000 Places to See Before You Die   \n",
       "2        3        407  13 Little Blue Envelopes (Little Blue Envelope...   \n",
       "3        4         82  1491: New Revelations of the Americas Before C...   \n",
       "4        5        125                                               1776   \n",
       "\n",
       "   num_pages publication_date  publisher_id  \n",
       "0        594       2005-11-01            93  \n",
       "1        992       2003-05-22           336  \n",
       "2        322       2010-12-21           135  \n",
       "3        541       2006-10-10           309  \n",
       "4        386       2006-07-04           268  "
      ]
     },
     "execution_count": 5,
     "metadata": {},
     "output_type": "execute_result"
    }
   ],
   "source": [
    "# realizamos una consulta de prueba a la BD\n",
    "pd.io.sql.read_sql(query, con = engine)"
   ]
  },
  {
   "cell_type": "markdown",
   "id": "0aadbc17-2560-4851-a489-1d3a1ed82c8e",
   "metadata": {},
   "source": [
    "[Volver a contenidos](#contenidos)\n",
    "## Descripción de los datos"
   ]
  },
  {
   "cell_type": "markdown",
   "id": "33510d97-c3ee-49e7-b9c2-737b192c6851",
   "metadata": {},
   "source": [
    "Las tablas de datos y las columnas que contienen cada una se describen a continuación."
   ]
  },
  {
   "cell_type": "code",
   "execution_count": 6,
   "id": "b1f1f10a-ba24-4d68-bdf4-dc9ec4b95125",
   "metadata": {},
   "outputs": [
    {
     "data": {
      "text/html": [
       "<div>\n",
       "<style scoped>\n",
       "    .dataframe tbody tr th:only-of-type {\n",
       "        vertical-align: middle;\n",
       "    }\n",
       "\n",
       "    .dataframe tbody tr th {\n",
       "        vertical-align: top;\n",
       "    }\n",
       "\n",
       "    .dataframe thead th {\n",
       "        text-align: right;\n",
       "    }\n",
       "</style>\n",
       "<table border=\"1\" class=\"dataframe\">\n",
       "  <thead>\n",
       "    <tr style=\"text-align: right;\">\n",
       "      <th></th>\n",
       "      <th>book_id</th>\n",
       "      <th>author_id</th>\n",
       "      <th>title</th>\n",
       "      <th>num_pages</th>\n",
       "      <th>publication_date</th>\n",
       "      <th>publisher_id</th>\n",
       "    </tr>\n",
       "  </thead>\n",
       "  <tbody>\n",
       "    <tr>\n",
       "      <th>0</th>\n",
       "      <td>1</td>\n",
       "      <td>546</td>\n",
       "      <td>'Salem's Lot</td>\n",
       "      <td>594</td>\n",
       "      <td>2005-11-01</td>\n",
       "      <td>93</td>\n",
       "    </tr>\n",
       "    <tr>\n",
       "      <th>1</th>\n",
       "      <td>2</td>\n",
       "      <td>465</td>\n",
       "      <td>1 000 Places to See Before You Die</td>\n",
       "      <td>992</td>\n",
       "      <td>2003-05-22</td>\n",
       "      <td>336</td>\n",
       "    </tr>\n",
       "    <tr>\n",
       "      <th>2</th>\n",
       "      <td>3</td>\n",
       "      <td>407</td>\n",
       "      <td>13 Little Blue Envelopes (Little Blue Envelope...</td>\n",
       "      <td>322</td>\n",
       "      <td>2010-12-21</td>\n",
       "      <td>135</td>\n",
       "    </tr>\n",
       "    <tr>\n",
       "      <th>3</th>\n",
       "      <td>4</td>\n",
       "      <td>82</td>\n",
       "      <td>1491: New Revelations of the Americas Before C...</td>\n",
       "      <td>541</td>\n",
       "      <td>2006-10-10</td>\n",
       "      <td>309</td>\n",
       "    </tr>\n",
       "    <tr>\n",
       "      <th>4</th>\n",
       "      <td>5</td>\n",
       "      <td>125</td>\n",
       "      <td>1776</td>\n",
       "      <td>386</td>\n",
       "      <td>2006-07-04</td>\n",
       "      <td>268</td>\n",
       "    </tr>\n",
       "  </tbody>\n",
       "</table>\n",
       "</div>"
      ],
      "text/plain": [
       "   book_id  author_id                                              title  \\\n",
       "0        1        546                                       'Salem's Lot   \n",
       "1        2        465                 1 000 Places to See Before You Die   \n",
       "2        3        407  13 Little Blue Envelopes (Little Blue Envelope...   \n",
       "3        4         82  1491: New Revelations of the Americas Before C...   \n",
       "4        5        125                                               1776   \n",
       "\n",
       "   num_pages publication_date  publisher_id  \n",
       "0        594       2005-11-01            93  \n",
       "1        992       2003-05-22           336  \n",
       "2        322       2010-12-21           135  \n",
       "3        541       2006-10-10           309  \n",
       "4        386       2006-07-04           268  "
      ]
     },
     "execution_count": 6,
     "metadata": {},
     "output_type": "execute_result"
    }
   ],
   "source": [
    "# creamos una consulta a la tabla 'books'\n",
    "query=\"SELECT * FROM public.books LIMIT 5\"\n",
    "\n",
    "# realizamos la consulta a la BD\n",
    "pd.io.sql.read_sql(query, con = engine)"
   ]
  },
  {
   "cell_type": "markdown",
   "id": "5007b536-d38f-40fb-9f2d-bf8eb57b06b8",
   "metadata": {},
   "source": [
    "**`books`**\n",
    "\n",
    "Contiene datos sobre libros:\n",
    "\n",
    "- `book_id`: identificación del libro\n",
    "- `author_id`: identificación del autor o autora\n",
    "- `title`: título\n",
    "- `num_pages`: número de páginas\n",
    "- `publication_date`: fecha de la publicación\n",
    "- `publisher_id`: identificación de la editorial\n",
    "---"
   ]
  },
  {
   "cell_type": "code",
   "execution_count": 7,
   "id": "3c8e117f-f117-4bb6-9646-6c39f7e5738e",
   "metadata": {},
   "outputs": [
    {
     "data": {
      "text/html": [
       "<div>\n",
       "<style scoped>\n",
       "    .dataframe tbody tr th:only-of-type {\n",
       "        vertical-align: middle;\n",
       "    }\n",
       "\n",
       "    .dataframe tbody tr th {\n",
       "        vertical-align: top;\n",
       "    }\n",
       "\n",
       "    .dataframe thead th {\n",
       "        text-align: right;\n",
       "    }\n",
       "</style>\n",
       "<table border=\"1\" class=\"dataframe\">\n",
       "  <thead>\n",
       "    <tr style=\"text-align: right;\">\n",
       "      <th></th>\n",
       "      <th>author_id</th>\n",
       "      <th>author</th>\n",
       "    </tr>\n",
       "  </thead>\n",
       "  <tbody>\n",
       "    <tr>\n",
       "      <th>0</th>\n",
       "      <td>1</td>\n",
       "      <td>A.S. Byatt</td>\n",
       "    </tr>\n",
       "    <tr>\n",
       "      <th>1</th>\n",
       "      <td>2</td>\n",
       "      <td>Aesop/Laura Harris/Laura Gibbs</td>\n",
       "    </tr>\n",
       "    <tr>\n",
       "      <th>2</th>\n",
       "      <td>3</td>\n",
       "      <td>Agatha Christie</td>\n",
       "    </tr>\n",
       "    <tr>\n",
       "      <th>3</th>\n",
       "      <td>4</td>\n",
       "      <td>Alan Brennert</td>\n",
       "    </tr>\n",
       "    <tr>\n",
       "      <th>4</th>\n",
       "      <td>5</td>\n",
       "      <td>Alan Moore/David   Lloyd</td>\n",
       "    </tr>\n",
       "  </tbody>\n",
       "</table>\n",
       "</div>"
      ],
      "text/plain": [
       "   author_id                          author\n",
       "0          1                      A.S. Byatt\n",
       "1          2  Aesop/Laura Harris/Laura Gibbs\n",
       "2          3                 Agatha Christie\n",
       "3          4                   Alan Brennert\n",
       "4          5        Alan Moore/David   Lloyd"
      ]
     },
     "execution_count": 7,
     "metadata": {},
     "output_type": "execute_result"
    }
   ],
   "source": [
    "# creamos una consulta a la tabla 'authors'\n",
    "query=\"SELECT * FROM public.authors LIMIT 5\"\n",
    "\n",
    "# realizamos la consulta a la BD\n",
    "pd.io.sql.read_sql(query, con = engine)"
   ]
  },
  {
   "cell_type": "markdown",
   "id": "d5966160-831d-4ac2-a949-e791b3a02b19",
   "metadata": {},
   "source": [
    "**`authors`**\n",
    "\n",
    "Contiene datos sobre autores:\n",
    "\n",
    "- `author_id`: identificación del autor o autora\n",
    "- `author`: el autor o la autora\n",
    "---"
   ]
  },
  {
   "cell_type": "code",
   "execution_count": 8,
   "id": "5656e698-3222-4b97-85e2-dfe72c15e2c5",
   "metadata": {},
   "outputs": [
    {
     "data": {
      "text/html": [
       "<div>\n",
       "<style scoped>\n",
       "    .dataframe tbody tr th:only-of-type {\n",
       "        vertical-align: middle;\n",
       "    }\n",
       "\n",
       "    .dataframe tbody tr th {\n",
       "        vertical-align: top;\n",
       "    }\n",
       "\n",
       "    .dataframe thead th {\n",
       "        text-align: right;\n",
       "    }\n",
       "</style>\n",
       "<table border=\"1\" class=\"dataframe\">\n",
       "  <thead>\n",
       "    <tr style=\"text-align: right;\">\n",
       "      <th></th>\n",
       "      <th>publisher_id</th>\n",
       "      <th>publisher</th>\n",
       "    </tr>\n",
       "  </thead>\n",
       "  <tbody>\n",
       "    <tr>\n",
       "      <th>0</th>\n",
       "      <td>1</td>\n",
       "      <td>Ace</td>\n",
       "    </tr>\n",
       "    <tr>\n",
       "      <th>1</th>\n",
       "      <td>2</td>\n",
       "      <td>Ace Book</td>\n",
       "    </tr>\n",
       "    <tr>\n",
       "      <th>2</th>\n",
       "      <td>3</td>\n",
       "      <td>Ace Books</td>\n",
       "    </tr>\n",
       "    <tr>\n",
       "      <th>3</th>\n",
       "      <td>4</td>\n",
       "      <td>Ace Hardcover</td>\n",
       "    </tr>\n",
       "    <tr>\n",
       "      <th>4</th>\n",
       "      <td>5</td>\n",
       "      <td>Addison Wesley Publishing Company</td>\n",
       "    </tr>\n",
       "  </tbody>\n",
       "</table>\n",
       "</div>"
      ],
      "text/plain": [
       "   publisher_id                          publisher\n",
       "0             1                                Ace\n",
       "1             2                           Ace Book\n",
       "2             3                          Ace Books\n",
       "3             4                      Ace Hardcover\n",
       "4             5  Addison Wesley Publishing Company"
      ]
     },
     "execution_count": 8,
     "metadata": {},
     "output_type": "execute_result"
    }
   ],
   "source": [
    "# creamos una consulta a la tabla 'publishers'\n",
    "query=\"SELECT * FROM public.publishers LIMIT 5\"\n",
    "\n",
    "# realizamos la consulta a la BD\n",
    "pd.io.sql.read_sql(query, con = engine)"
   ]
  },
  {
   "cell_type": "markdown",
   "id": "52731dc4-b2f4-4631-8c46-d2d061b1aa3a",
   "metadata": {},
   "source": [
    "**`publishers`**\n",
    "\n",
    "Contiene datos sobre editoriales:\n",
    "\n",
    "- `publisher_id`: identificación de la editorial\n",
    "- `publisher`: la editorial\n",
    "---"
   ]
  },
  {
   "cell_type": "code",
   "execution_count": 9,
   "id": "761551e3-00e0-46ec-afab-f8c9606ee9c2",
   "metadata": {},
   "outputs": [
    {
     "data": {
      "text/html": [
       "<div>\n",
       "<style scoped>\n",
       "    .dataframe tbody tr th:only-of-type {\n",
       "        vertical-align: middle;\n",
       "    }\n",
       "\n",
       "    .dataframe tbody tr th {\n",
       "        vertical-align: top;\n",
       "    }\n",
       "\n",
       "    .dataframe thead th {\n",
       "        text-align: right;\n",
       "    }\n",
       "</style>\n",
       "<table border=\"1\" class=\"dataframe\">\n",
       "  <thead>\n",
       "    <tr style=\"text-align: right;\">\n",
       "      <th></th>\n",
       "      <th>rating_id</th>\n",
       "      <th>book_id</th>\n",
       "      <th>username</th>\n",
       "      <th>rating</th>\n",
       "    </tr>\n",
       "  </thead>\n",
       "  <tbody>\n",
       "    <tr>\n",
       "      <th>0</th>\n",
       "      <td>1</td>\n",
       "      <td>1</td>\n",
       "      <td>ryanfranco</td>\n",
       "      <td>4</td>\n",
       "    </tr>\n",
       "    <tr>\n",
       "      <th>1</th>\n",
       "      <td>2</td>\n",
       "      <td>1</td>\n",
       "      <td>grantpatricia</td>\n",
       "      <td>2</td>\n",
       "    </tr>\n",
       "    <tr>\n",
       "      <th>2</th>\n",
       "      <td>3</td>\n",
       "      <td>1</td>\n",
       "      <td>brandtandrea</td>\n",
       "      <td>5</td>\n",
       "    </tr>\n",
       "    <tr>\n",
       "      <th>3</th>\n",
       "      <td>4</td>\n",
       "      <td>2</td>\n",
       "      <td>lorichen</td>\n",
       "      <td>3</td>\n",
       "    </tr>\n",
       "    <tr>\n",
       "      <th>4</th>\n",
       "      <td>5</td>\n",
       "      <td>2</td>\n",
       "      <td>mariokeller</td>\n",
       "      <td>2</td>\n",
       "    </tr>\n",
       "  </tbody>\n",
       "</table>\n",
       "</div>"
      ],
      "text/plain": [
       "   rating_id  book_id       username  rating\n",
       "0          1        1     ryanfranco       4\n",
       "1          2        1  grantpatricia       2\n",
       "2          3        1   brandtandrea       5\n",
       "3          4        2       lorichen       3\n",
       "4          5        2    mariokeller       2"
      ]
     },
     "execution_count": 9,
     "metadata": {},
     "output_type": "execute_result"
    }
   ],
   "source": [
    "# creamos una consulta a la tabla 'ratings'\n",
    "query=\"SELECT * FROM public.ratings LIMIT 5\"\n",
    "\n",
    "# realizamos la consulta a la BD\n",
    "pd.io.sql.read_sql(query, con = engine)"
   ]
  },
  {
   "cell_type": "markdown",
   "id": "e5b29488-fc07-4341-b89f-17479e279459",
   "metadata": {},
   "source": [
    "**`ratings`**\n",
    "\n",
    "Contiene datos sobre las calificaciones de usuarios:\n",
    "\n",
    "- `rating_id`: identificación de la calificación\n",
    "- `book_id`: identificación del libro\n",
    "- `username`: el nombre del usuario que revisó el libro\n",
    "- `rating`: calificación\n",
    "---"
   ]
  },
  {
   "cell_type": "code",
   "execution_count": 10,
   "id": "799782bc-c301-4f2f-9729-383895c6916a",
   "metadata": {},
   "outputs": [
    {
     "data": {
      "text/html": [
       "<div>\n",
       "<style scoped>\n",
       "    .dataframe tbody tr th:only-of-type {\n",
       "        vertical-align: middle;\n",
       "    }\n",
       "\n",
       "    .dataframe tbody tr th {\n",
       "        vertical-align: top;\n",
       "    }\n",
       "\n",
       "    .dataframe thead th {\n",
       "        text-align: right;\n",
       "    }\n",
       "</style>\n",
       "<table border=\"1\" class=\"dataframe\">\n",
       "  <thead>\n",
       "    <tr style=\"text-align: right;\">\n",
       "      <th></th>\n",
       "      <th>review_id</th>\n",
       "      <th>book_id</th>\n",
       "      <th>username</th>\n",
       "      <th>text</th>\n",
       "    </tr>\n",
       "  </thead>\n",
       "  <tbody>\n",
       "    <tr>\n",
       "      <th>0</th>\n",
       "      <td>1</td>\n",
       "      <td>1</td>\n",
       "      <td>brandtandrea</td>\n",
       "      <td>Mention society tell send professor analysis. ...</td>\n",
       "    </tr>\n",
       "    <tr>\n",
       "      <th>1</th>\n",
       "      <td>2</td>\n",
       "      <td>1</td>\n",
       "      <td>ryanfranco</td>\n",
       "      <td>Foot glass pretty audience hit themselves. Amo...</td>\n",
       "    </tr>\n",
       "    <tr>\n",
       "      <th>2</th>\n",
       "      <td>3</td>\n",
       "      <td>2</td>\n",
       "      <td>lorichen</td>\n",
       "      <td>Listen treat keep worry. Miss husband tax but ...</td>\n",
       "    </tr>\n",
       "    <tr>\n",
       "      <th>3</th>\n",
       "      <td>4</td>\n",
       "      <td>3</td>\n",
       "      <td>johnsonamanda</td>\n",
       "      <td>Finally month interesting blue could nature cu...</td>\n",
       "    </tr>\n",
       "    <tr>\n",
       "      <th>4</th>\n",
       "      <td>5</td>\n",
       "      <td>3</td>\n",
       "      <td>scotttamara</td>\n",
       "      <td>Nation purpose heavy give wait song will. List...</td>\n",
       "    </tr>\n",
       "  </tbody>\n",
       "</table>\n",
       "</div>"
      ],
      "text/plain": [
       "   review_id  book_id       username  \\\n",
       "0          1        1   brandtandrea   \n",
       "1          2        1     ryanfranco   \n",
       "2          3        2       lorichen   \n",
       "3          4        3  johnsonamanda   \n",
       "4          5        3    scotttamara   \n",
       "\n",
       "                                                text  \n",
       "0  Mention society tell send professor analysis. ...  \n",
       "1  Foot glass pretty audience hit themselves. Amo...  \n",
       "2  Listen treat keep worry. Miss husband tax but ...  \n",
       "3  Finally month interesting blue could nature cu...  \n",
       "4  Nation purpose heavy give wait song will. List...  "
      ]
     },
     "execution_count": 10,
     "metadata": {},
     "output_type": "execute_result"
    }
   ],
   "source": [
    "# creamos una consulta a la tabla 'reviews'\n",
    "query=\"SELECT * FROM public.reviews LIMIT 5\"\n",
    "\n",
    "# realizamos la consulta a la BD\n",
    "pd.io.sql.read_sql(query, con = engine)"
   ]
  },
  {
   "cell_type": "markdown",
   "id": "f6cbe3e8-cd98-4893-8899-8f7365471e96",
   "metadata": {},
   "source": [
    "**`reviews`**\n",
    "\n",
    "Contiene datos sobre las reseñas de los y las clientes:\n",
    "\n",
    "- `review_id`: identificación de la reseña\n",
    "- `book_id`: identificación del libro\n",
    "- `username`: el nombre del usuario que revisó el libro\n",
    "- `text`: el texto de la reseña\n",
    "---"
   ]
  },
  {
   "cell_type": "markdown",
   "id": "b529284b-f7b5-48f0-b98a-d68ed16f01bb",
   "metadata": {},
   "source": [
    "**Las relaciones existentes entre las tablas las podemos ver en el siguiente diagrama.**"
   ]
  },
  {
   "cell_type": "markdown",
   "id": "88f351c2-99c6-41c4-a0a6-bf48a7ef2f3b",
   "metadata": {},
   "source": [
    "![Relaciones_tablas](relaciones_tablas.png)"
   ]
  },
  {
   "cell_type": "markdown",
   "id": "717cb9fa-9dd5-415d-9101-1d1138298360",
   "metadata": {},
   "source": [
    "[Volver a contenidos](#contenidos)\n",
    "## Ejercicios"
   ]
  },
  {
   "cell_type": "markdown",
   "id": "5844058e-640a-4709-a360-7a4aa3812976",
   "metadata": {},
   "source": [
    "### Número de libros publicados después del 1 de enero de 2000"
   ]
  },
  {
   "cell_type": "code",
   "execution_count": 11,
   "id": "58fa07f0-ac5f-4fbf-865c-d5116d1dd837",
   "metadata": {},
   "outputs": [
    {
     "name": "stdout",
     "output_type": "stream",
     "text": [
      "Despues del 01 de enero de 2000 se publicaron:  819  libros\n"
     ]
    }
   ],
   "source": [
    "# creamos una consulta a la tabla 'books'\n",
    "query=\"SELECT COUNT(book_id) FROM public.books WHERE publication_date>'2000-01-01'\"\n",
    "\n",
    "# realizamos la consulta a la BD\n",
    "count_books=pd.io.sql.read_sql(query, con = engine)\n",
    "print(f'Despues del 01 de enero de 2000 se publicaron: ', count_books.iloc[0,0],' libros')"
   ]
  },
  {
   "cell_type": "markdown",
   "id": "264863be-a660-4673-988b-377a55f91016",
   "metadata": {},
   "source": [
    "### Número de reseñas de usuarios y la calificación promedio para cada libro"
   ]
  },
  {
   "cell_type": "code",
   "execution_count": 12,
   "id": "6941d2ce-701e-4327-a4af-f834aa5b1830",
   "metadata": {},
   "outputs": [
    {
     "data": {
      "text/html": [
       "<div>\n",
       "<style scoped>\n",
       "    .dataframe tbody tr th:only-of-type {\n",
       "        vertical-align: middle;\n",
       "    }\n",
       "\n",
       "    .dataframe tbody tr th {\n",
       "        vertical-align: top;\n",
       "    }\n",
       "\n",
       "    .dataframe thead th {\n",
       "        text-align: right;\n",
       "    }\n",
       "</style>\n",
       "<table border=\"1\" class=\"dataframe\">\n",
       "  <thead>\n",
       "    <tr style=\"text-align: right;\">\n",
       "      <th></th>\n",
       "      <th>book_id</th>\n",
       "      <th>conteo_review_id</th>\n",
       "      <th>promedio_rating</th>\n",
       "    </tr>\n",
       "  </thead>\n",
       "  <tbody>\n",
       "    <tr>\n",
       "      <th>0</th>\n",
       "      <td>652</td>\n",
       "      <td>4</td>\n",
       "      <td>4.500000</td>\n",
       "    </tr>\n",
       "    <tr>\n",
       "      <th>1</th>\n",
       "      <td>273</td>\n",
       "      <td>4</td>\n",
       "      <td>4.500000</td>\n",
       "    </tr>\n",
       "    <tr>\n",
       "      <th>2</th>\n",
       "      <td>51</td>\n",
       "      <td>60</td>\n",
       "      <td>4.250000</td>\n",
       "    </tr>\n",
       "    <tr>\n",
       "      <th>3</th>\n",
       "      <td>951</td>\n",
       "      <td>4</td>\n",
       "      <td>4.000000</td>\n",
       "    </tr>\n",
       "    <tr>\n",
       "      <th>4</th>\n",
       "      <td>839</td>\n",
       "      <td>28</td>\n",
       "      <td>4.285714</td>\n",
       "    </tr>\n",
       "  </tbody>\n",
       "</table>\n",
       "</div>"
      ],
      "text/plain": [
       "   book_id  conteo_review_id  promedio_rating\n",
       "0      652                 4         4.500000\n",
       "1      273                 4         4.500000\n",
       "2       51                60         4.250000\n",
       "3      951                 4         4.000000\n",
       "4      839                28         4.285714"
      ]
     },
     "execution_count": 12,
     "metadata": {},
     "output_type": "execute_result"
    }
   ],
   "source": [
    "# creamos una consulta a la tabla 'books' y sus uniones con 'ratings' y 'reviews'\n",
    "query=\"\"\"\n",
    "SELECT b.book_id, COUNT(r.review_id) AS conteo_review_id, AVG(ra.rating) AS promedio_rating\n",
    "FROM public.books b\n",
    "JOIN public.reviews r ON b.book_id = r.book_id\n",
    "JOIN public.ratings ra ON b.book_id = ra.book_id\n",
    "GROUP BY b.book_id;\n",
    "\"\"\"\n",
    "review_rating_by_book=pd.io.sql.read_sql(query, con = engine)\n",
    "review_rating_by_book.head()"
   ]
  },
  {
   "cell_type": "markdown",
   "id": "867f2e31",
   "metadata": {},
   "source": [
    "El dataframe `review_rating_by_book` contiene el número de reseñas de usuarios y la calificación promedio para cada libro. "
   ]
  },
  {
   "cell_type": "markdown",
   "id": "3afa5db5-a936-46ac-94f2-486e974b57f5",
   "metadata": {},
   "source": [
    "### Identificar la editorial que ha publicado el mayor número de libros con más de 50 páginas"
   ]
  },
  {
   "cell_type": "code",
   "execution_count": 13,
   "id": "c531fe20-7f5f-49df-adf0-aeeed1b22980",
   "metadata": {},
   "outputs": [
    {
     "data": {
      "text/html": [
       "<div>\n",
       "<style scoped>\n",
       "    .dataframe tbody tr th:only-of-type {\n",
       "        vertical-align: middle;\n",
       "    }\n",
       "\n",
       "    .dataframe tbody tr th {\n",
       "        vertical-align: top;\n",
       "    }\n",
       "\n",
       "    .dataframe thead th {\n",
       "        text-align: right;\n",
       "    }\n",
       "</style>\n",
       "<table border=\"1\" class=\"dataframe\">\n",
       "  <thead>\n",
       "    <tr style=\"text-align: right;\">\n",
       "      <th></th>\n",
       "      <th>publisher</th>\n",
       "      <th>conteo</th>\n",
       "    </tr>\n",
       "  </thead>\n",
       "  <tbody>\n",
       "    <tr>\n",
       "      <th>0</th>\n",
       "      <td>Penguin Books</td>\n",
       "      <td>42</td>\n",
       "    </tr>\n",
       "    <tr>\n",
       "      <th>1</th>\n",
       "      <td>Vintage</td>\n",
       "      <td>31</td>\n",
       "    </tr>\n",
       "    <tr>\n",
       "      <th>2</th>\n",
       "      <td>Grand Central Publishing</td>\n",
       "      <td>25</td>\n",
       "    </tr>\n",
       "    <tr>\n",
       "      <th>3</th>\n",
       "      <td>Penguin Classics</td>\n",
       "      <td>24</td>\n",
       "    </tr>\n",
       "    <tr>\n",
       "      <th>4</th>\n",
       "      <td>Ballantine Books</td>\n",
       "      <td>19</td>\n",
       "    </tr>\n",
       "    <tr>\n",
       "      <th>5</th>\n",
       "      <td>Bantam</td>\n",
       "      <td>19</td>\n",
       "    </tr>\n",
       "    <tr>\n",
       "      <th>6</th>\n",
       "      <td>Berkley</td>\n",
       "      <td>17</td>\n",
       "    </tr>\n",
       "    <tr>\n",
       "      <th>7</th>\n",
       "      <td>St. Martin's Press</td>\n",
       "      <td>14</td>\n",
       "    </tr>\n",
       "    <tr>\n",
       "      <th>8</th>\n",
       "      <td>Berkley Books</td>\n",
       "      <td>14</td>\n",
       "    </tr>\n",
       "    <tr>\n",
       "      <th>9</th>\n",
       "      <td>William Morrow Paperbacks</td>\n",
       "      <td>13</td>\n",
       "    </tr>\n",
       "  </tbody>\n",
       "</table>\n",
       "</div>"
      ],
      "text/plain": [
       "                   publisher  conteo\n",
       "0              Penguin Books      42\n",
       "1                    Vintage      31\n",
       "2   Grand Central Publishing      25\n",
       "3           Penguin Classics      24\n",
       "4           Ballantine Books      19\n",
       "5                     Bantam      19\n",
       "6                    Berkley      17\n",
       "7         St. Martin's Press      14\n",
       "8              Berkley Books      14\n",
       "9  William Morrow Paperbacks      13"
      ]
     },
     "execution_count": 13,
     "metadata": {},
     "output_type": "execute_result"
    }
   ],
   "source": [
    "# creamos una consulta a la tabla 'books' y su union con 'publisher'\n",
    "query=\"\"\"\n",
    "SELECT publisher, COUNT(book_id) AS conteo\n",
    "FROM public.books b\n",
    "JOIN public.publishers p ON b.publisher_id = p.publisher_id\n",
    "WHERE num_pages > 50\n",
    "GROUP BY publisher\n",
    "ORDER BY conteo DESC\n",
    "LIMIT 10;\n",
    "\"\"\"\n",
    "publisher=pd.io.sql.read_sql(query, con = engine)\n",
    "publisher"
   ]
  },
  {
   "cell_type": "markdown",
   "id": "9271c57d",
   "metadata": {},
   "source": [
    "La editorial `Penguin Books` es la editorial que ha publicado el mayor número de libros con más de 50 páginas."
   ]
  },
  {
   "cell_type": "markdown",
   "id": "d3f22be6-7045-47f8-8723-73514f625fe7",
   "metadata": {},
   "source": [
    "### Identificar al autor que tiene la más alta calificación promedio del libro: mirar solo los libros con al menos 50 calificaciones"
   ]
  },
  {
   "cell_type": "code",
   "execution_count": 14,
   "id": "b29a3866-501c-4538-bc45-25197c73c285",
   "metadata": {},
   "outputs": [
    {
     "data": {
      "text/html": [
       "<div>\n",
       "<style scoped>\n",
       "    .dataframe tbody tr th:only-of-type {\n",
       "        vertical-align: middle;\n",
       "    }\n",
       "\n",
       "    .dataframe tbody tr th {\n",
       "        vertical-align: top;\n",
       "    }\n",
       "\n",
       "    .dataframe thead th {\n",
       "        text-align: right;\n",
       "    }\n",
       "</style>\n",
       "<table border=\"1\" class=\"dataframe\">\n",
       "  <thead>\n",
       "    <tr style=\"text-align: right;\">\n",
       "      <th></th>\n",
       "      <th>author</th>\n",
       "      <th>promedio_rating</th>\n",
       "      <th>conteo</th>\n",
       "    </tr>\n",
       "  </thead>\n",
       "  <tbody>\n",
       "    <tr>\n",
       "      <th>0</th>\n",
       "      <td>J.K. Rowling/Mary GrandPré</td>\n",
       "      <td>4.287097</td>\n",
       "      <td>310</td>\n",
       "    </tr>\n",
       "    <tr>\n",
       "      <th>1</th>\n",
       "      <td>Markus Zusak/Cao Xuân Việt Khương</td>\n",
       "      <td>4.264151</td>\n",
       "      <td>53</td>\n",
       "    </tr>\n",
       "    <tr>\n",
       "      <th>2</th>\n",
       "      <td>J.R.R. Tolkien</td>\n",
       "      <td>4.246914</td>\n",
       "      <td>162</td>\n",
       "    </tr>\n",
       "    <tr>\n",
       "      <th>3</th>\n",
       "      <td>Louisa May Alcott</td>\n",
       "      <td>4.192308</td>\n",
       "      <td>52</td>\n",
       "    </tr>\n",
       "    <tr>\n",
       "      <th>4</th>\n",
       "      <td>Rick Riordan</td>\n",
       "      <td>4.080645</td>\n",
       "      <td>62</td>\n",
       "    </tr>\n",
       "    <tr>\n",
       "      <th>5</th>\n",
       "      <td>William Golding</td>\n",
       "      <td>3.901408</td>\n",
       "      <td>71</td>\n",
       "    </tr>\n",
       "    <tr>\n",
       "      <th>6</th>\n",
       "      <td>J.D. Salinger</td>\n",
       "      <td>3.825581</td>\n",
       "      <td>86</td>\n",
       "    </tr>\n",
       "    <tr>\n",
       "      <th>7</th>\n",
       "      <td>Paulo Coelho/Alan R. Clarke/Özdemir İnce</td>\n",
       "      <td>3.789474</td>\n",
       "      <td>57</td>\n",
       "    </tr>\n",
       "    <tr>\n",
       "      <th>8</th>\n",
       "      <td>William Shakespeare/Paul Werstine/Barbara A. M...</td>\n",
       "      <td>3.787879</td>\n",
       "      <td>66</td>\n",
       "    </tr>\n",
       "    <tr>\n",
       "      <th>9</th>\n",
       "      <td>Lois Lowry</td>\n",
       "      <td>3.750000</td>\n",
       "      <td>56</td>\n",
       "    </tr>\n",
       "  </tbody>\n",
       "</table>\n",
       "</div>"
      ],
      "text/plain": [
       "                                              author  promedio_rating  conteo\n",
       "0                         J.K. Rowling/Mary GrandPré         4.287097     310\n",
       "1                  Markus Zusak/Cao Xuân Việt Khương         4.264151      53\n",
       "2                                     J.R.R. Tolkien         4.246914     162\n",
       "3                                  Louisa May Alcott         4.192308      52\n",
       "4                                       Rick Riordan         4.080645      62\n",
       "5                                    William Golding         3.901408      71\n",
       "6                                      J.D. Salinger         3.825581      86\n",
       "7           Paulo Coelho/Alan R. Clarke/Özdemir İnce         3.789474      57\n",
       "8  William Shakespeare/Paul Werstine/Barbara A. M...         3.787879      66\n",
       "9                                         Lois Lowry         3.750000      56"
      ]
     },
     "execution_count": 14,
     "metadata": {},
     "output_type": "execute_result"
    }
   ],
   "source": [
    "# creamos una consulta a la tabla 'books' y sus uniones con 'authors' y 'ratings'\n",
    "query=\"\"\"\n",
    "SELECT a.author, AVG(ra.rating) AS promedio_rating, COUNT(ra.book_id) AS conteo\n",
    "FROM public.books b\n",
    "JOIN public.authors a ON b.author_id = a.author_id\n",
    "JOIN public.ratings ra ON b.book_id = ra.book_id\n",
    "WHERE b.book_id IN (\n",
    "                    SELECT book_id\n",
    "                    FROM public.ratings\n",
    "                    GROUP BY book_id\n",
    "                    HAVING COUNT(book_id) >= 50\n",
    "                    )\n",
    "GROUP BY a.author\n",
    "ORDER BY promedio_rating DESC\n",
    "LIMIT 10;\n",
    "\"\"\"\n",
    "author=pd.io.sql.read_sql(query, con = engine)\n",
    "author"
   ]
  },
  {
   "cell_type": "markdown",
   "id": "664d0524",
   "metadata": {},
   "source": [
    "Los autores `J.K. Rowling/Mary GrandPré ` son los que tienen la más alta calificación promedio del libro, para libros con al menos 50 calificaciones."
   ]
  },
  {
   "cell_type": "markdown",
   "id": "0abab820-749d-4131-a708-5c5a50a4b34d",
   "metadata": {},
   "source": [
    "### Encontrar el número promedio de reseñas de texto entre los usuarios que calificaron más de 50 libros"
   ]
  },
  {
   "cell_type": "code",
   "execution_count": 15,
   "id": "cc51bb50-f7a6-4f3e-a665-13330c16b080",
   "metadata": {},
   "outputs": [
    {
     "data": {
      "text/html": [
       "<div>\n",
       "<style scoped>\n",
       "    .dataframe tbody tr th:only-of-type {\n",
       "        vertical-align: middle;\n",
       "    }\n",
       "\n",
       "    .dataframe tbody tr th {\n",
       "        vertical-align: top;\n",
       "    }\n",
       "\n",
       "    .dataframe thead th {\n",
       "        text-align: right;\n",
       "    }\n",
       "</style>\n",
       "<table border=\"1\" class=\"dataframe\">\n",
       "  <thead>\n",
       "    <tr style=\"text-align: right;\">\n",
       "      <th></th>\n",
       "      <th>promedio_conteo_text</th>\n",
       "    </tr>\n",
       "  </thead>\n",
       "  <tbody>\n",
       "    <tr>\n",
       "      <th>0</th>\n",
       "      <td>24.333333</td>\n",
       "    </tr>\n",
       "  </tbody>\n",
       "</table>\n",
       "</div>"
      ],
      "text/plain": [
       "   promedio_conteo_text\n",
       "0             24.333333"
      ]
     },
     "execution_count": 15,
     "metadata": {},
     "output_type": "execute_result"
    }
   ],
   "source": [
    "# creamos una consulta a la tabla 'reviews' y una subconsulta a la tabla 'ratings'\n",
    "query=\"\"\"\n",
    "SELECT AVG(tabla1.conteo_text) AS promedio_conteo_text\n",
    "FROM (\n",
    "        SELECT COUNT(r.text) AS conteo_text\n",
    "        FROM public.reviews r\n",
    "        WHERE r.username IN (\n",
    "                            SELECT username\n",
    "                            FROM ratings\n",
    "                            GROUP BY username\n",
    "                            HAVING COUNT(DISTINCT book_id) > 50\n",
    "                            )\n",
    "       GROUP BY username\n",
    "    ) AS tabla1\n",
    "\"\"\"\n",
    "promedio_reviews=pd.io.sql.read_sql(query, con = engine)\n",
    "promedio_reviews"
   ]
  },
  {
   "cell_type": "markdown",
   "id": "079e530d",
   "metadata": {},
   "source": [
    "24.33 es el número promedio de reseñas de texto entre los usuarios que calificaron más de 50 libros."
   ]
  }
 ],
 "metadata": {
  "kernelspec": {
   "display_name": "Python 3 (ipykernel)",
   "language": "python",
   "name": "python3"
  },
  "language_info": {
   "codemirror_mode": {
    "name": "ipython",
    "version": 3
   },
   "file_extension": ".py",
   "mimetype": "text/x-python",
   "name": "python",
   "nbconvert_exporter": "python",
   "pygments_lexer": "ipython3",
   "version": "3.9.16"
  },
  "toc": {
   "base_numbering": 1,
   "nav_menu": {},
   "number_sections": true,
   "sideBar": true,
   "skip_h1_title": true,
   "title_cell": "Tabla de Contenidos",
   "title_sidebar": "Contenidos",
   "toc_cell": true,
   "toc_position": {
    "height": "calc(100% - 180px)",
    "left": "10px",
    "top": "150px",
    "width": "382.267px"
   },
   "toc_section_display": true,
   "toc_window_display": false
  },
  "varInspector": {
   "cols": {
    "lenName": 16,
    "lenType": 16,
    "lenVar": 40
   },
   "kernels_config": {
    "python": {
     "delete_cmd_postfix": "",
     "delete_cmd_prefix": "del ",
     "library": "var_list.py",
     "varRefreshCmd": "print(var_dic_list())"
    },
    "r": {
     "delete_cmd_postfix": ") ",
     "delete_cmd_prefix": "rm(",
     "library": "var_list.r",
     "varRefreshCmd": "cat(var_dic_list()) "
    }
   },
   "types_to_exclude": [
    "module",
    "function",
    "builtin_function_or_method",
    "instance",
    "_Feature"
   ],
   "window_display": false
  },
  "widgets": {
   "application/vnd.jupyter.widget-state+json": {
    "state": {},
    "version_major": 2,
    "version_minor": 0
   }
  }
 },
 "nbformat": 4,
 "nbformat_minor": 5
}
